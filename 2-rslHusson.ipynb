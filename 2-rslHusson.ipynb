{
 "cells": [
  {
   "cell_type": "code",
   "execution_count": null,
   "metadata": {},
   "outputs": [],
   "source": [
    "import pandas as pd\n",
    "import numpy as np\n",
    "\n",
    "import matplotlib.pyplot as plt\n",
    "\n",
    "# display plots in SVG format\n",
    "%config InlineBackend.figure_format = 'svg'\n",
    "%matplotlib inline"
   ]
  },
  {
   "cell_type": "markdown",
   "metadata": {},
   "source": [
    "# Sea level\n",
    "\n",
    "Bintanja & van de Wal, 2008"
   ]
  },
  {
   "cell_type": "code",
   "execution_count": null,
   "metadata": {},
   "outputs": [],
   "source": [
    "seafile = \"./data/Bintanja.csv\"\n",
    "seadata = pd.read_csv(\n",
    "            seafile,\n",
    "            sep=r\",\",\n",
    "            engine=\"c\",\n",
    "            na_filter=False,\n",
    "            dtype=np.float,\n",
    "            low_memory=False,\n",
    "        )\n",
    "\n",
    "seatime = seadata.values[:, 0]\n",
    "seaval = seadata.values[:, 1]"
   ]
  },
  {
   "cell_type": "markdown",
   "metadata": {},
   "source": [
    "Relative sea level in the Sunda shelf based on the elevation of the core of the Sunda shelf that currently\n",
    "stands between 50 m and 120 m below current sea level and subsides at a rate of 2.5 mm/year (uncertainty range from 2 to 3 mm/year, Sarr, Husson, et al., 2019)."
   ]
  },
  {
   "cell_type": "code",
   "execution_count": null,
   "metadata": {},
   "outputs": [],
   "source": [
    "# Considering shelf at 50 m\n",
    "seaval0_50 = seaval + 0.0002 *  seatime * 1000. - 50.\n",
    "seaval1_50 = seaval + 0.00025 *  seatime * 1000. - 50.\n",
    "seaval2_50 = seaval + 0.0003 *  seatime * 1000. - 50."
   ]
  },
  {
   "cell_type": "code",
   "execution_count": null,
   "metadata": {},
   "outputs": [],
   "source": [
    "# Considering shelf at 120 m\n",
    "seaval0_120 = seaval + 0.0002 *  seatime * 1000. - 120.\n",
    "seaval1_120 = seaval + 0.00025 *  seatime * 1000. - 120.\n",
    "seaval2_120 = seaval + 0.0003 *  seatime * 1000. - 120."
   ]
  },
  {
   "cell_type": "code",
   "execution_count": null,
   "metadata": {},
   "outputs": [],
   "source": [
    "# Getting the relative sea level range (low, mid, high) to test in Badlands\n",
    "lowsl =  seaval + 0.0002 *  seatime * 1000. \n",
    "highsl = seaval + 0.0003 *  seatime * 1000. \n",
    "midsl = seaval + 0.00025 *  seatime * 1000. "
   ]
  },
  {
   "cell_type": "markdown",
   "metadata": {},
   "source": [
    "# Plotting RSL as in Husson (2019) for the Sunda shelf"
   ]
  },
  {
   "cell_type": "code",
   "execution_count": null,
   "metadata": {},
   "outputs": [],
   "source": [
    "fig,ax = plt.subplots(1, 1, figsize=(10,7))\n",
    "\n",
    "yy = \"#ffeaa8\"\n",
    "bb = '#bb7355'\n",
    "\n",
    "# plt.plot(-seatime,lowsl-50.,color='k', ls='--', lw=0.5)\n",
    "# plt.plot(-seatime,midsl-50.,color='k', ls='--', lw=1)\n",
    "plt.plot(-seatime,highsl-50.,color='k', ls='-',lw=0.2)\n",
    "plt.plot(-seatime,midsl-50.,color='k', ls='-',lw=0.2)\n",
    "plt.plot(-seatime,midsl-120.,color='k', ls='-',lw=0.2)\n",
    "plt.plot(-seatime,lowsl-120.,color='k', ls='-',lw=0.2)\n",
    "\n",
    "ax.fill_between(-seatime, -200, 600, color='w')\n",
    "ax.fill_between(-seatime, -200, seaval0_120, color=bb)\n",
    "ax.fill_between(-seatime, seaval0_120, seaval2_50, color='grey')\n",
    "ax.fill_between(-seatime, seaval1_50, seaval1_120, color='orange')\n",
    "\n",
    "sll = np.zeros(len(seaval))\n",
    "plt.plot(-seatime,sll,color='w',lw=3)\n",
    "plt.plot(-seatime,sll,color='blue',lw=2)\n",
    "plt.plot(-seatime,seaval-50.,color='w',lw=3)\n",
    "plt.plot(-seatime,seaval-50.,color='r',lw=2)\n",
    "\n",
    "# plt.plot(-seatime,seaval0, color='orange')\n",
    "# plt.plot(-seatime,seaval1, color='blue')\n",
    "# plt.plot(-seatime,seaval2, color='red')\n",
    "\n",
    "# plt.grid()\n",
    "plt.xlim(-1000,0)\n",
    "plt.ylim(-130,350)\n",
    "plt.xlabel('Time (kyr)')\n",
    "plt.ylabel('elevation above sea level (m)')\n",
    "fig.tight_layout()\n",
    "# fig.savefig('sealvl1.pdf')"
   ]
  },
  {
   "cell_type": "code",
   "execution_count": null,
   "metadata": {},
   "outputs": [],
   "source": [
    "# fig,ax = plt.subplots(1, 1, figsize=(5,5))\n",
    "\n",
    "# yy = \"#ffeaa8\"\n",
    "# bb = '#bb7355'\n",
    "\n",
    "# plt.plot(-seatime,lowsl,color='k', ls='-.', lw=0.5)\n",
    "# plt.plot(-seatime,midsl,color='k', ls='-', lw=1)\n",
    "# plt.plot(-seatime,highsl,color='k', ls='-.',lw=0.5)\n",
    "\n",
    "# ax.fill_between(-seatime, -200, 1000, color=yy)\n",
    "# ax.fill_between(-seatime, -200, lowsl, color=bb)\n",
    "# ax.fill_between(-seatime, lowsl, highsl, color='orange')\n",
    "\n",
    "# # plt.grid()\n",
    "# plt.xlim(-800,0)\n",
    "# plt.ylim(-150,400)\n",
    "# plt.xlabel('Time (kyr)')\n",
    "# plt.ylabel('elevation above sea level (m)')\n",
    "# fig.tight_layout()"
   ]
  },
  {
   "cell_type": "code",
   "execution_count": null,
   "metadata": {},
   "outputs": [],
   "source": [
    "# fig,ax = plt.subplots(1, 1, figsize=(6,5))\n",
    "\n",
    "# yy = \"#ffeaa8\"\n",
    "# bb = '#bb7355'\n",
    "\n",
    "# sll = np.zeros(len(seaval))\n",
    "# # plt.plot(-seatime,seaval-50.,color='k',lw=1)\n",
    "# plt.plot(-seatime,sll,color='blue',lw=1.5)\n",
    "\n",
    "# ax.fill_between(-seatime, -200, 1000, color='w')\n",
    "# ax.fill_between(-seatime, -200, seaval0_120, color=bb)\n",
    "# ax.fill_between(-seatime, seaval0_120, seaval2_50, color='grey')\n",
    "# ax.fill_between(-seatime, seaval1_50, seaval1_120, color='orange')\n",
    "\n",
    "\n",
    "\n",
    "# # plt.plot(-seatime,seaval0, color='orange')\n",
    "# # plt.plot(-seatime,seaval1, color='blue')\n",
    "# # plt.plot(-seatime,seaval2, color='red')\n",
    "\n",
    "# # plt.grid()\n",
    "# plt.xlim(-1000,0)\n",
    "# plt.ylim(-150,350)\n",
    "# plt.xlabel('Time (kyr)')\n",
    "# plt.ylabel('elevation above sea level (m)')\n",
    "# fig.tight_layout()\n",
    "# fig.savefig('sealvl.pdf')"
   ]
  },
  {
   "cell_type": "code",
   "execution_count": null,
   "metadata": {},
   "outputs": [],
   "source": [
    "# fig,ax = plt.subplots(1, 1, figsize=(10,5))\n",
    "\n",
    "# yy = \"#ffeaa8\"\n",
    "# bb = '#bb7355'\n",
    "\n",
    "# plt.plot(-seatime,lowsl,color='k', ls='-.', lw=0.5)\n",
    "# plt.plot(-seatime,midsl,color='k', ls='-', lw=1)\n",
    "# plt.plot(-seatime,highsl,color='k', ls='-.',lw=0.5)\n",
    "\n",
    "# ax.fill_between(-seatime, -200, 1000, color=yy)\n",
    "# ax.fill_between(-seatime, -200, lowsl, color=bb)\n",
    "# ax.fill_between(-seatime, lowsl, highsl, color='orange')\n",
    "\n",
    "# # plt.grid()\n",
    "# plt.xlim(-2000,0)\n",
    "# plt.ylim(-150,800)\n",
    "# plt.xlabel('Time (kyr)')\n",
    "# plt.ylabel('elevation above sea level (m)')\n",
    "# fig.tight_layout()"
   ]
  },
  {
   "cell_type": "markdown",
   "metadata": {},
   "source": [
    "# Write relative sea levels for the different scenarios to test"
   ]
  },
  {
   "cell_type": "code",
   "execution_count": null,
   "metadata": {},
   "outputs": [],
   "source": [
    "df = pd.DataFrame(\n",
    "    {\n",
    "        \"time\": np.flipud(np.around(-seatime*1000., decimals=0)),\n",
    "        \"rslow\": np.flipud(np.around(-lowsl, decimals=3)),\n",
    "        \"rsmid\": np.flipud(np.around(-midsl, decimals=3)),\n",
    "        \"rshigh\": np.flipud(np.around(-highsl, decimals=3)),\n",
    "    }\n",
    ")\n",
    "\n",
    "df.to_csv(\n",
    "    \"data/low.csv\",\n",
    "    columns=[\"time\", \"rslow\"],\n",
    "    sep=\" \",\n",
    "    index=False,\n",
    "    header=0,\n",
    ")\n",
    "\n",
    "df.to_csv(\n",
    "    \"data/mid.csv\",\n",
    "    columns=[\"time\", \"rsmid\"],\n",
    "    sep=\" \",\n",
    "    index=False,\n",
    "    header=0,\n",
    ")\n",
    "\n",
    "df.to_csv(\n",
    "    \"data/high.csv\",\n",
    "    columns=[\"time\", \"rshigh\"],\n",
    "    sep=\" \",\n",
    "    index=False,\n",
    "    header=0,\n",
    ")"
   ]
  },
  {
   "cell_type": "code",
   "execution_count": null,
   "metadata": {},
   "outputs": [],
   "source": []
  }
 ],
 "metadata": {
  "kernelspec": {
   "display_name": "Python 3",
   "language": "python",
   "name": "python3"
  },
  "language_info": {
   "codemirror_mode": {
    "name": "ipython",
    "version": 3
   },
   "file_extension": ".py",
   "mimetype": "text/x-python",
   "name": "python",
   "nbconvert_exporter": "python",
   "pygments_lexer": "ipython3",
   "version": "3.7.3"
  }
 },
 "nbformat": 4,
 "nbformat_minor": 2
}
