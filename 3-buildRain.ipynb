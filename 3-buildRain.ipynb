{
 "cells": [
  {
   "cell_type": "code",
   "execution_count": null,
   "metadata": {},
   "outputs": [],
   "source": [
    "import pandas as pd\n",
    "import numpy as np\n",
    "import matplotlib.mlab as ml\n",
    "import matplotlib.pyplot as plt\n",
    "from matplotlib import cm\n",
    "import matplotlib as mpl\n",
    "from mpl_toolkits.axes_grid1 import make_axes_locatable\n",
    "\n",
    "import pygmt as gmt\n",
    "import xarray as xr\n",
    "\n",
    "import rasterio\n",
    "from rasterio.plot import show\n",
    "from rasterio.plot import show_hist\n",
    "from rasterio.mask import mask\n",
    "from rasterio.warp import calculate_default_transform, reproject, Resampling\n",
    "\n",
    "from shapely.geometry import box\n",
    "import geopandas as gpd\n",
    "from fiona.crs import from_epsg\n",
    "import pycrs\n",
    "\n",
    "from scripts import morphoGrid as morph\n",
    "from scipy.spatial import cKDTree\n",
    "\n",
    "# display plots in SVG format\n",
    "%config InlineBackend.figure_format = 'svg'\n",
    "%matplotlib inline"
   ]
  },
  {
   "cell_type": "code",
   "execution_count": null,
   "metadata": {},
   "outputs": [],
   "source": [
    "def getFeatures(gdf):\n",
    "    \"\"\"Function to parse features from GeoDataFrame in such a manner that rasterio wants them\"\"\"\n",
    "    import json\n",
    "    return [json.loads(gdf.to_json())['features'][0]['geometry']]"
   ]
  },
  {
   "cell_type": "markdown",
   "metadata": {},
   "source": [
    "# Visualise data"
   ]
  },
  {
   "cell_type": "code",
   "execution_count": null,
   "metadata": {},
   "outputs": [],
   "source": [
    "period = 6"
   ]
  },
  {
   "cell_type": "code",
   "execution_count": null,
   "metadata": {},
   "outputs": [],
   "source": [
    "fp = r'data/precipitation/'+str(period)+'/bio_12.tif'\n",
    "img = rasterio.open(fp)\n",
    "\n",
    "fig, ax = pyplot.subplots(1,1, figsize=(12,7))\n",
    "show(img, ax=ax, cmap='Blues', title='Precipitation')\n",
    "pyplot.show()"
   ]
  },
  {
   "cell_type": "markdown",
   "metadata": {},
   "source": [
    "# Clip around Sundaland "
   ]
  },
  {
   "cell_type": "code",
   "execution_count": null,
   "metadata": {},
   "outputs": [],
   "source": [
    "out_tif = r'data/precipitation/'+str(period)+'/clip.tif'\n",
    "minx, miny = 80., -20.00\n",
    "maxx, maxy = 140., 20."
   ]
  },
  {
   "cell_type": "code",
   "execution_count": null,
   "metadata": {},
   "outputs": [],
   "source": [
    "bbox = box(minx, miny, maxx, maxy)\n",
    "geo = gpd.GeoDataFrame({'geometry': bbox}, index=[0], crs=from_epsg(4326))\n",
    "geo = geo.to_crs(crs=img.crs.data)\n",
    "coords = getFeatures(geo)\n",
    "out_img, out_transform = mask(img, shapes=coords, crop=True)\n",
    "out_meta = img.meta.copy()\n",
    "epsg_code = int(img.crs.data['init'][5:])\n",
    "out_meta.update({\"driver\": \"GTiff\",\n",
    "                \"height\": out_img.shape[1],          \n",
    "                 \"width\": out_img.shape[2],\n",
    "                 \"transform\": out_transform,\n",
    "                 \"crs\": pycrs.parse.from_epsg_code(epsg_code).to_proj4()}                 \n",
    "               )\n",
    "\n",
    "with rasterio.open(out_tif, \"w\", **out_meta) as dest:\n",
    "    dest.write(out_img)"
   ]
  },
  {
   "cell_type": "markdown",
   "metadata": {},
   "source": [
    "## Convert to UTM\n",
    "\n",
    "UTM zone 49N - EPSG:32649"
   ]
  },
  {
   "cell_type": "code",
   "execution_count": null,
   "metadata": {},
   "outputs": [],
   "source": [
    "dst_crs = 'EPSG:32649'\n",
    "out_utm = r'data/precipitation/'+str(period)+'/clip_utm.tif'"
   ]
  },
  {
   "cell_type": "code",
   "execution_count": null,
   "metadata": {},
   "outputs": [],
   "source": [
    "with rasterio.open(out_tif) as src:\n",
    "    transform, width, height = calculate_default_transform(\n",
    "        src.crs, dst_crs, src.width, src.height, *src.bounds)\n",
    "    kwargs = src.meta.copy()\n",
    "    kwargs.update({\n",
    "        'crs': dst_crs,\n",
    "        'transform': transform,\n",
    "        'width': width,\n",
    "        'height': height\n",
    "    })\n",
    "\n",
    "    with rasterio.open(out_utm, 'w', **kwargs) as dst:\n",
    "        for i in range(1, src.count + 1):\n",
    "            reproject(\n",
    "                source=rasterio.band(src, i),\n",
    "                destination=rasterio.band(dst, i),\n",
    "                src_transform=src.transform,\n",
    "                src_crs=src.crs,\n",
    "                dst_transform=transform,\n",
    "                dst_crs=dst_crs,\n",
    "                resampling=Resampling.nearest)\n",
    "            \n",
    "clipped_utm = rasterio.open(out_utm)\n",
    "fig, ax = pyplot.subplots(1,1, figsize=(12,7))\n",
    "show(clipped_utm, ax=ax, cmap='Blues', title='Precipitation')\n",
    "pyplot.show()"
   ]
  },
  {
   "cell_type": "markdown",
   "metadata": {},
   "source": [
    "## Clip based on UTM coordinates"
   ]
  },
  {
   "cell_type": "code",
   "execution_count": null,
   "metadata": {},
   "outputs": [],
   "source": [
    "minux, minuy = -1800000., -1400000.\n",
    "maxux, maxuy = 3000000., 2200000.\n",
    "\n",
    "out_tif_utm2 = r'data/precipitation/'+str(period)+'/clip_utm1.tif'"
   ]
  },
  {
   "cell_type": "code",
   "execution_count": null,
   "metadata": {},
   "outputs": [],
   "source": [
    "bbox2 = box(minux, minuy, maxux, maxuy)\n",
    "geo2 = gpd.GeoDataFrame({'geometry': bbox2}, index=[0], crs=from_epsg(32649))\n",
    "geo2 = geo2.to_crs(crs=clipped_utm.crs.data)\n",
    "\n",
    "coords2 = getFeatures(geo2)\n",
    "#print(coords2)\n",
    "\n",
    "out_utm2, out_transform2 = mask(clipped_utm, shapes=coords2, crop=True)\n",
    "out_meta2 = clipped_utm.meta.copy()\n",
    "epsg_code2 = int(clipped_utm.crs.data['init'][5:])\n",
    "# print(out_meta2)\n",
    "# print(epsg_code2)\n",
    "\n",
    "out_meta2.update({\"driver\": \"GTiff\",\n",
    "                \"height\": out_utm2.shape[1],          \n",
    "                 \"width\": out_utm2.shape[2],\n",
    "                 \"transform\": out_transform2,\n",
    "                 \"crs\": pycrs.parse.from_epsg_code(epsg_code2).to_proj4()}                 \n",
    "               )\n",
    "\n",
    "with rasterio.open(out_tif_utm2, \"w\", **out_meta2) as dest:\n",
    "    dest.write(out_utm2)\n",
    "\n",
    "\n",
    "clipped = rasterio.open(out_tif_utm2)\n",
    "fig, ax = pyplot.subplots(1,1, figsize=(12,7))\n",
    "show(clipped, ax=ax, cmap='Blues', title='Precipitation')\n",
    "pyplot.show()"
   ]
  },
  {
   "cell_type": "markdown",
   "metadata": {},
   "source": [
    "# Create a regular grid for badlands"
   ]
  },
  {
   "cell_type": "code",
   "execution_count": null,
   "metadata": {},
   "outputs": [],
   "source": [
    "# Read the data\n",
    "da = xr.open_rasterio(out_tif_utm2)\n",
    "x = da['x']\n",
    "y = np.flipud(da['y'])\n",
    "dx = x[1]-x[0]\n",
    "dy = y[1]-y[0]\n",
    "\n",
    "rain = np.flipud(da.values[0,1:-1,1:-1])\n",
    "rain[rain>60000] = 0.\n",
    "rain = rain/1000.\n",
    "\n",
    "X, Y = np.meshgrid(x[1:-1], y[1:-1])\n",
    "\n",
    "interp_spline = RectBivariateSpline(y[1:-1], x[1:-1], rain)\n",
    "\n",
    "\n",
    "print('dx,dy',dx,dy)\n",
    "print('xmin,xmax',X.min(),X.max())\n",
    "print('ymin,ymax',Y.min(),Y.max())"
   ]
  },
  {
   "cell_type": "code",
   "execution_count": null,
   "metadata": {},
   "outputs": [],
   "source": [
    "dx2 = 5000.\n",
    "dy2 = 5000.\n",
    "\n",
    "rxmin = -1790000.\n",
    "rxmax = 2990000.\n",
    "rymin = -1395000.\n",
    "rymax = 2195000."
   ]
  },
  {
   "cell_type": "code",
   "execution_count": null,
   "metadata": {},
   "outputs": [],
   "source": [
    "x2 = np.arange(rxmin, rxmax, dx2)\n",
    "y2 = np.arange(rymin, rymax, dy2)\n",
    "X2, Y2 = np.meshgrid(x2, y2)\n",
    "R2 = interp_spline(y2, x2)\n",
    "R2[R2<=0.5] = 0.5"
   ]
  },
  {
   "cell_type": "code",
   "execution_count": null,
   "metadata": {},
   "outputs": [],
   "source": [
    "df = pd.DataFrame(\n",
    "    {\n",
    "        \"X\": X2.flatten(),\n",
    "        \"Y\": Y2.flatten(),\n",
    "        \"rain\": R2.flatten(),\n",
    "    }\n",
    ")\n",
    "\n",
    "df.to_csv(\n",
    "    \"data/rain\"+str(period)+\".csv\",\n",
    "#     columns=[\"X\", \"Y\", \"rain\"],\n",
    "    columns=[\"rain\"],\n",
    "    sep=\" \",\n",
    "    index=False,\n",
    "    header=0,\n",
    ")"
   ]
  },
  {
   "cell_type": "code",
   "execution_count": null,
   "metadata": {},
   "outputs": [],
   "source": []
  },
  {
   "cell_type": "code",
   "execution_count": null,
   "metadata": {},
   "outputs": [],
   "source": []
  }
 ],
 "metadata": {
  "kernelspec": {
   "display_name": "Python 3",
   "language": "python",
   "name": "python3"
  },
  "language_info": {
   "codemirror_mode": {
    "name": "ipython",
    "version": 3
   },
   "file_extension": ".py",
   "mimetype": "text/x-python",
   "name": "python",
   "nbconvert_exporter": "python",
   "pygments_lexer": "ipython3",
   "version": "3.7.3"
  }
 },
 "nbformat": 4,
 "nbformat_minor": 2
}
