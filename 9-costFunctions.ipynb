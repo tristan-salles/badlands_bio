{
 "cells": [
  {
   "cell_type": "code",
   "execution_count": null,
   "metadata": {},
   "outputs": [],
   "source": [
    "import pandas as pd\n",
    "import numpy as np\n",
    "import matplotlib.mlab as ml\n",
    "import matplotlib.pyplot as plt\n",
    "from matplotlib import cm\n",
    "import matplotlib as mpl\n",
    "from mpl_toolkits.axes_grid1 import make_axes_locatable\n",
    "from scipy.spatial import cKDTree\n",
    "from scipy.ndimage import gaussian_filter\n",
    "from skimage import graph\n",
    "from skimage.graph import MCP\n",
    "from io import StringIO\n",
    "\n",
    "import pygmt as gmt\n",
    "import xarray as xr\n",
    "\n",
    "import rasterio\n",
    "from rasterio.plot import show\n",
    "from rasterio.plot import show_hist\n",
    "from rasterio.mask import mask\n",
    "from rasterio.warp import calculate_default_transform, reproject, Resampling\n",
    "\n",
    "from shapely.geometry import box\n",
    "import geopandas as gpd\n",
    "from fiona.crs import from_epsg\n",
    "import pycrs\n",
    "\n",
    "from scripts import morphoGrid as morph\n",
    "from scipy.spatial import cKDTree\n",
    "\n",
    "import meshio\n",
    "\n",
    "# display plots in SVG format\n",
    "%config InlineBackend.figure_format = 'svg'\n",
    "%matplotlib inline"
   ]
  },
  {
   "cell_type": "markdown",
   "metadata": {},
   "source": [
    "# Build a VTK mesh from Badlands output\n",
    "\n",
    "### Intermittent flooding\n",
    "\n",
    "+ -415 (584) -400 (600) -393 (607)\n",
    "+ -337 (663) -325 (675) -304 (696) \n",
    "+ -246 (754) -237 (763) -230 (770)\n",
    "+ -220 (780) -213 (787) -190 (810)\n",
    "+ -107 (893) -81 (919)  -70 (930)\n",
    "\n",
    "### Full flooding\n",
    "\n",
    "+ -132 (868) -124 (876) -112 (888)\n",
    "+ -16 (984) 0 (1000)\n",
    "\n",
    "\n",
    "steps to use:\n",
    "\n",
    "+ 430 \n",
    "+ 600 \n",
    "+ 675 \n",
    "+ 763 \n",
    "+ 787 \n",
    "+ 919 \n",
    "\n",
    "\n",
    "+ 625\n",
    "+ 930"
   ]
  },
  {
   "cell_type": "code",
   "execution_count": null,
   "metadata": {},
   "outputs": [],
   "source": [
    "step = 625\n",
    "dx = 5000.\n",
    "folder = 'lem-outputs/lowsub/h5'\n",
    "\n",
    "badland_topo = morph.morphoGrid(folder=folder, bbox = None, dx=dx)\n",
    "badland_topo.loadHDF5(timestep=step)\n",
    "height = badland_topo.z.shape[0]\n",
    "width = badland_topo.z.shape[1]\n",
    "minx = badland_topo.x.min()\n",
    "maxy = badland_topo.y.max()\n",
    "sealevel = badland_topo.sl\n",
    "cells = badland_topo.cells-1\n",
    "area = badland_topo.area\n",
    "vertices = badland_topo.vertices\n",
    "fa = badland_topo.fa\n",
    "ed = badland_topo.ed\n",
    "\n",
    "vertices[:,-1] -= sealevel"
   ]
  },
  {
   "cell_type": "code",
   "execution_count": null,
   "metadata": {},
   "outputs": [],
   "source": [
    "vtkfile = 'vtk/map'+str(step)+'.vtk'\n",
    "vis_mesh = meshio.Mesh(vertices, {'triangle': cells}, \n",
    "                                   point_data={\"Z\":vertices[:,-1], \"ED\":ed, \n",
    "                                               'FA':fa\n",
    "                                              })\n",
    "meshio.write(vtkfile, vis_mesh)"
   ]
  },
  {
   "cell_type": "markdown",
   "metadata": {},
   "source": [
    "# Compute LEC"
   ]
  },
  {
   "cell_type": "code",
   "execution_count": null,
   "metadata": {},
   "outputs": [],
   "source": [
    "#!cd scripts; mpirun -n 8  python3 -m mpi4py.futures  mpi_sunda.py -i $vtkfile"
   ]
  },
  {
   "cell_type": "markdown",
   "metadata": {},
   "source": [
    "# Build a regular cost grid"
   ]
  },
  {
   "cell_type": "code",
   "execution_count": null,
   "metadata": {},
   "outputs": [],
   "source": [
    "# Regular grid coordinates\n",
    "xyi = np.dstack([badland_topo.x.flatten(), badland_topo.y.flatten()])[0]\n",
    "# TIN grid coordinates\n",
    "XY = vertices[:,:2] \n",
    "tin_tree = cKDTree(XY)\n",
    "\n",
    "\n",
    "# Get costs \n",
    "costmesh = 'vtk/'+'map'+str(step)+'.cost.vtk'\n",
    "mesh = meshio.read(costmesh)\n",
    "\n",
    "# vertices = mesh.points\n",
    "# cells = mesh.cells_dict['triangle']\n",
    "elev = mesh.point_data['Z']\n",
    "cost = mesh.point_data['cost']\n",
    "cost = 1.0-cost/cost.max()\n",
    "ED = mesh.point_data['ED']\n",
    "FA = mesh.point_data['FA']\n",
    "\n",
    "# set a limit on flow accumulation to only consider large rivers and \n",
    "# use kdtree to find closest points to these rivers on the mesh\n",
    "logFA = np.log10(FA) / 13. # 13 is coming from logFA.max() at step 430 when river discharge is maximum\n",
    "riverIDs = np.where(logFA>0.8)[0]\n",
    "rtin_tree = cKDTree(XY[riverIDs,:]) \n",
    "dist, ids = rtin_tree.query(XY, k=1)\n",
    "dist[elev<0] = 1.e18 # marine points set to large distance"
   ]
  },
  {
   "cell_type": "code",
   "execution_count": null,
   "metadata": {},
   "outputs": [],
   "source": [
    "# Define categorical distances cost based on user requirement\n",
    "landIDs = np.where(elev>=0)[0]\n",
    "cat_dist = np.zeros(len(dist))\n",
    "\n",
    "cat_dist[elev<0] = 20.\n",
    "cat_dist[landIDs] = 20.\n",
    "cat_dist[dist<50000] = 14.\n",
    "cat_dist[dist<35000] = 11.\n",
    "cat_dist[dist<25000] = 9.\n",
    "cat_dist[dist<20000] = 7.\n",
    "cat_dist[dist<15000] = 5.\n",
    "cat_dist[dist<10000] = 3.\n",
    "cat_dist[dist<7000] = 2.\n",
    "cat_dist[dist<5000] = 1.\n",
    "cat_dist[dist<1000] = 0."
   ]
  },
  {
   "cell_type": "code",
   "execution_count": null,
   "metadata": {},
   "outputs": [],
   "source": [
    "# On the mesh\n",
    "totcost = cost*20.+cat_dist\n",
    "\n",
    "# On the uniform grid\n",
    "distances, indices = tin_tree.query(xyi, k=3)\n",
    "\n",
    "onIDs = np.where(distances[:, 0] == 0)[0]\n",
    "inIDs = np.where(distances[:, 0] > 0)[0]\n",
    "\n",
    "weights = np.ones(distances.shape)\n",
    "weights[inIDs,:] = 1.0 / distances[inIDs,:] ** 2\n",
    "\n",
    "denum = 1.0 / np.sum(weights, axis=1)\n",
    "\n",
    "ncosti = np.sum(weights * totcost[indices], axis=1) * denum\n",
    "if len(onIDs) > 0:\n",
    "    ncosti[onIDs] = totcost[indices[onIDs, 0]]\n",
    "ncosti = np.reshape(ncosti, badland_topo.x.shape)\n",
    "\n",
    "# Smooth cost\n",
    "# ncosti = gaussian_filter(ncosti, sigma=0.1)\n",
    "np.place(ncosti, badland_topo.z < sealevel, 9999)\n",
    "\n",
    "icost = ncosti.astype(dtype=int)"
   ]
  },
  {
   "cell_type": "code",
   "execution_count": null,
   "metadata": {},
   "outputs": [],
   "source": [
    "# vtkfile2 = 'totcost'+str(step)+'.vtk'\n",
    "# vis_mesh = meshio.Mesh(vertices, {'triangle': cells}, \n",
    "#                                    point_data={\"Z\":elev, \"ED\":ED, \n",
    "#                                                \"LEC\":cost, 'FA':logFA, 'riverdist':cat_dist,\n",
    "#                                                \"cost\":totcost\n",
    "#                                               })\n",
    "# meshio.write(vtkfile2, vis_mesh)"
   ]
  },
  {
   "cell_type": "markdown",
   "metadata": {},
   "source": [
    "Sumatra, Malay P., Borneo, Java"
   ]
  },
  {
   "cell_type": "code",
   "execution_count": null,
   "metadata": {},
   "outputs": [],
   "source": [
    "fig = plt.figure(figsize=(10,8))\n",
    "ax = fig.add_subplot(111)\n",
    "ax.imshow(np.flipud(icost), vmin=0, vmax=50, cmap=cm.RdBu_r) \n",
    "ax.imshow(np.flipud(badland_topo.z-sealevel), vmin=-500, vmax=500, cmap=cm.RdBu) \n",
    "\n",
    "plt.scatter(220,80, s=80, facecolors='w', edgecolors='k') # Gulf of Thailand\n",
    "plt.scatter(460,400, s=80, facecolors='tab:green', edgecolors='k') # Borneo\n",
    "plt.scatter(180,340, s=80, facecolors='tab:blue', edgecolors='k') # Sumatra\n",
    "plt.scatter(420,580, s=80, facecolors='tab:red', edgecolors='k') # Java\n",
    "\n",
    "# print(badland_topo.z[720-80,220]-sealevel)\n",
    "# print(icost[720-80,220],icost.shape)\n",
    "plt.show()"
   ]
  },
  {
   "cell_type": "markdown",
   "metadata": {},
   "source": [
    "# Defining the migration paths\n",
    "\n",
    "First we define the starting and destination points:"
   ]
  },
  {
   "cell_type": "code",
   "execution_count": null,
   "metadata": {},
   "outputs": [],
   "source": [
    "bioPts = np.zeros((4,2),dtype=int)\n",
    "bioPts[0,0] = 220\n",
    "bioPts[0,1] = 80\n",
    "bioPts[1,0] = 460\n",
    "bioPts[1,1] = 400\n",
    "bioPts[2,0] = 180\n",
    "bioPts[2,1] = 340\n",
    "bioPts[3,0] = 420\n",
    "bioPts[3,1] = 580\n",
    "\n",
    "rcPts = []\n",
    "rcDst = []\n",
    "\n",
    "rcPts.append(np.flipud(bioPts[0,:])*[-1,1]+[icost.shape[0],0])\n",
    "rcDst.append(np.flipud(bioPts[1,:])*[-1,1]+[icost.shape[0],0])\n",
    "rcPts.append(np.flipud(bioPts[0,:])*[-1,1]+[icost.shape[0],0])\n",
    "rcDst.append(np.flipud(bioPts[2,:])*[-1,1]+[icost.shape[0],0])\n",
    "rcPts.append(np.flipud(bioPts[0,:])*[-1,1]+[icost.shape[0],0])\n",
    "rcDst.append(np.flipud(bioPts[3,:])*[-1,1]+[icost.shape[0],0])\n",
    "rcPts.append(np.flipud(bioPts[1,:])*[-1,1]+[icost.shape[0],0])\n",
    "rcDst.append(np.flipud(bioPts[2,:])*[-1,1]+[icost.shape[0],0])\n",
    "rcPts.append(np.flipud(bioPts[1,:])*[-1,1]+[icost.shape[0],0])\n",
    "rcDst.append(np.flipud(bioPts[3,:])*[-1,1]+[icost.shape[0],0])\n",
    "rcPts.append(np.flipud(bioPts[2,:])*[-1,1]+[icost.shape[0],0])\n",
    "rcDst.append(np.flipud(bioPts[3,:])*[-1,1]+[icost.shape[0],0])\n",
    "\n",
    "starts = [[rcPts[0].tolist()],[rcPts[1].tolist()],[rcPts[2].tolist()],\n",
    "          [rcPts[3].tolist()],[rcPts[4].tolist()],[rcPts[5].tolist()]]\n",
    "ends = [[rcDst[0].tolist()],[rcDst[1].tolist()],[rcDst[2].tolist()],\n",
    "          [rcDst[3].tolist()],[rcDst[4].tolist()],[rcDst[5].tolist()]]"
   ]
  },
  {
   "cell_type": "markdown",
   "metadata": {},
   "source": [
    "## Least cost path\n",
    "\n",
    "First we compute the distance cost from one point to every other points... (not useful here)"
   ]
  },
  {
   "cell_type": "code",
   "execution_count": null,
   "metadata": {},
   "outputs": [],
   "source": [
    "m = MCP(icost,fully_connected=True)\n",
    "for s in range(6):\n",
    "\n",
    "    costTrace = 'traces/costTrace'+str(step)+'_'+str(s)+'.csv'\n",
    "    \n",
    "    # cost_array, tracebacks_array = m.find_costs(starts1, ends1)\n",
    "    cost_array, tracebacks_array = m.find_costs(starts[s], ends[s])\n",
    "\n",
    "    # Transpose `ends` so can be used to index in NumPy\n",
    "    ends_idx = tuple(np.asarray(ends).T.tolist())\n",
    "    costs = cost_array[ends_idx]\n",
    "\n",
    "    # Compute exact minimum cost path to each endpoint\n",
    "    tracebacks = [m.traceback(end) for end in ends[s]]\n",
    "    trace = np.asarray(tracebacks[0])\n",
    "    path1 = np.zeros((len(trace),4))\n",
    "    \n",
    "    print(len(trace))\n",
    "    for k in range(len(trace)):\n",
    "        path1[k,0] = badland_topo.x[trace[k][0],trace[k][1]]\n",
    "        path1[k,1] = badland_topo.y[trace[k][0],trace[k][1]]\n",
    "        path1[k,2] = badland_topo.z[trace[k][0],trace[k][1]]\n",
    "        path1[k,3] = cost_array[trace[k][0],trace[k][1]]\n",
    "\n",
    "    df = pd.DataFrame({'X':path1[:,0],'Y':path1[:,1],'Z':path1[:,2], 'tcost': path1[:,3]})\n",
    "\n",
    "    df.to_csv(costTrace,columns=['X', 'Y', 'Z', 'tcost'], sep=',', index=False)"
   ]
  },
  {
   "cell_type": "code",
   "execution_count": null,
   "metadata": {},
   "outputs": [],
   "source": [
    "fig = plt.figure(figsize=(10,8))\n",
    "ax = fig.add_subplot(111)\n",
    "ax.imshow(np.flipud(icost),vmin=0, vmax=50, cmap=cm.RdBu_r) \n",
    "\n",
    "trace = np.asarray(tracebacks[0])\n",
    "for k in range(len(trace)):\n",
    "    ax.scatter(trace[k][1], icost.shape[0]-trace[k][0], s=10, c='orange', marker='o', zorder=3, edgecolor='yellow')\n",
    "    \n",
    "plt.show()"
   ]
  },
  {
   "cell_type": "markdown",
   "metadata": {},
   "source": [
    "## Circuitscape current map\n",
    "\n",
    "First we reduce the map size..."
   ]
  },
  {
   "cell_type": "code",
   "execution_count": null,
   "metadata": {},
   "outputs": [],
   "source": [
    "icost[icost<1] = 1\n",
    "loc_cost = np.flipud(icost)\n",
    "f = StringIO()\n",
    "np.savetxt(f, loc_cost, fmt='%.3f')\n",
    "f.seek(0)\n",
    "fs = f.read().replace('.000', '', -1)\n",
    "f.close()"
   ]
  },
  {
   "cell_type": "code",
   "execution_count": null,
   "metadata": {},
   "outputs": [],
   "source": [
    "f = open('traces/cost'+str(step)+'.asc', 'w')\n",
    "f.write(\"ncols \" + str(loc_cost.shape[1]) + \"\\n\")\n",
    "f.write(\"nrows \" + str(loc_cost.shape[0]) + \"\\n\")\n",
    "f.write(\"xllcorner \" + str(0) + \"\\n\")\n",
    "f.write(\"yllcorner \" + str(0) + \"\\n\")\n",
    "f.write(\"cellsize \" + str(5000) + \"\\n\")\n",
    "f.write(\"NODATA_value \" + str(9999) + \"\\n\")\n",
    "f.write(fs)\n",
    "f.close()"
   ]
  },
  {
   "cell_type": "code",
   "execution_count": null,
   "metadata": {},
   "outputs": [],
   "source": [
    "locs = np.zeros((4,2),dtype=int)\n",
    "for k in range(4):\n",
    "    locs[k,0] = (bioPts[k,0])*5000\n",
    "    locs[k,1] = (icost.shape[0]-bioPts[k,1])*5000\n",
    "\n",
    "vv = (locs/5000).astype(int)\n",
    "print('cost for each points (needs to be above 9999)',icost[vv[:,1],vv[:,0]])\n",
    "\n",
    "df = pd.DataFrame({'X':locs[:,0],'Y':locs[:,1]})\n",
    "df.to_csv('traces/pts'+str(step)+'.txt',columns=['X', 'Y'], sep=' ', index=True, header=0)"
   ]
  },
  {
   "cell_type": "markdown",
   "metadata": {},
   "source": [
    "You can use circuitscape to do a pairwise analysis and get the current map... Here we load the resulting map:"
   ]
  },
  {
   "cell_type": "code",
   "execution_count": null,
   "metadata": {},
   "outputs": [],
   "source": [
    "curmap  = np.flipud(np.loadtxt('traces/'+str(step)+'_cum_curmap.asc', skiprows=6))\n",
    "curmap1  = np.flipud(np.loadtxt('traces/'+str(step)+'_curmap_0_1.asc', skiprows=6))\n",
    "curmap2  = np.flipud(np.loadtxt('traces/'+str(step)+'_curmap_0_2.asc', skiprows=6))\n",
    "curmap3  = np.flipud(np.loadtxt('traces/'+str(step)+'_curmap_0_3.asc', skiprows=6))\n",
    "curmap4  = np.flipud(np.loadtxt('traces/'+str(step)+'_curmap_1_2.asc', skiprows=6))\n",
    "curmap5  = np.flipud(np.loadtxt('traces/'+str(step)+'_curmap_1_3.asc', skiprows=6))\n",
    "curmap6  = np.flipud(np.loadtxt('traces/'+str(step)+'_curmap_2_3.asc', skiprows=6))"
   ]
  },
  {
   "cell_type": "code",
   "execution_count": null,
   "metadata": {},
   "outputs": [],
   "source": [
    "fig = plt.figure(figsize=(8,8))\n",
    "ax = fig.add_subplot(111)\n",
    "ax.imshow(np.flipud(curmap), cmap=cm.Oranges, vmin=0, vmax=0.1)\n",
    "plt.show()"
   ]
  },
  {
   "cell_type": "markdown",
   "metadata": {},
   "source": [
    "# Write bio map as vtk file"
   ]
  },
  {
   "cell_type": "code",
   "execution_count": null,
   "metadata": {},
   "outputs": [],
   "source": [
    "tree = cKDTree(xyi) "
   ]
  },
  {
   "cell_type": "code",
   "execution_count": null,
   "metadata": {},
   "outputs": [],
   "source": [
    "res = curmap.flatten()\n",
    "res1 = curmap1.flatten()\n",
    "res2 = curmap2.flatten()\n",
    "res3 = curmap3.flatten()\n",
    "res4 = curmap4.flatten()\n",
    "res5 = curmap5.flatten()\n",
    "res6 = curmap6.flatten()\n",
    "\n",
    "# On the uniform grid\n",
    "distances, indices = tree.query(XY, k=3)\n",
    "\n",
    "onIDs = np.where(distances[:, 0] == 0)[0]\n",
    "inIDs = np.where(distances[:, 0] > 0)[0]\n",
    "\n",
    "weights = np.ones(distances.shape)\n",
    "weights[inIDs,:] = 1.0 / distances[inIDs,:] ** 2\n",
    "\n",
    "denum = 1.0 / np.sum(weights, axis=1)\n",
    "\n",
    "resmap = np.sum(weights * res[indices], axis=1) * denum\n",
    "resmap1 = np.sum(weights * res1[indices], axis=1) * denum\n",
    "resmap2 = np.sum(weights * res2[indices], axis=1) * denum\n",
    "resmap3 = np.sum(weights * res3[indices], axis=1) * denum\n",
    "resmap4 = np.sum(weights * res4[indices], axis=1) * denum\n",
    "resmap5 = np.sum(weights * res5[indices], axis=1) * denum\n",
    "resmap6 = np.sum(weights * res6[indices], axis=1) * denum\n",
    "if len(onIDs) > 0:\n",
    "    resmap[onIDs] = res[indices[onIDs, 0]]\n",
    "    resmap1[onIDs] = res1[indices[onIDs, 0]]\n",
    "    resmap2[onIDs] = res2[indices[onIDs, 0]]\n",
    "    resmap3[onIDs] = res3[indices[onIDs, 0]]\n",
    "    resmap4[onIDs] = res4[indices[onIDs, 0]]\n",
    "    resmap5[onIDs] = res5[indices[onIDs, 0]]\n",
    "    resmap6[onIDs] = res6[indices[onIDs, 0]]"
   ]
  },
  {
   "cell_type": "code",
   "execution_count": null,
   "metadata": {},
   "outputs": [],
   "source": [
    "vtkfile2 = 'vtk/bioMap'+str(step)+'.vtk'\n",
    "vis_mesh = meshio.Mesh(vertices, {'triangle': cells}, \n",
    "                       point_data={\"Z\":elev, \"ED\":ED, \n",
    "                       \"LEC\":cost, 'FA':logFA, 'riverdist':cat_dist,\n",
    "                       \"cost\":totcost,\"res_cum\":resmap,\n",
    "                       \"res_Thai_Borneo\":resmap1,\"res_Thai_Sumatra\":resmap2,\n",
    "                       \"res_Thai_Java\":resmap3,\"res_Borneo_Sumatra\":resmap4,\n",
    "                       \"res_Borneo_Java\":resmap5,\"res_Sumatra_Java\":resmap6,\n",
    "                      })\n",
    "meshio.write(vtkfile2, vis_mesh)"
   ]
  },
  {
   "cell_type": "code",
   "execution_count": null,
   "metadata": {},
   "outputs": [],
   "source": []
  },
  {
   "cell_type": "code",
   "execution_count": null,
   "metadata": {},
   "outputs": [],
   "source": []
  }
 ],
 "metadata": {
  "kernelspec": {
   "display_name": "Python 3",
   "language": "python",
   "name": "python3"
  },
  "language_info": {
   "codemirror_mode": {
    "name": "ipython",
    "version": 3
   },
   "file_extension": ".py",
   "mimetype": "text/x-python",
   "name": "python",
   "nbconvert_exporter": "python",
   "pygments_lexer": "ipython3",
   "version": "3.7.3"
  }
 },
 "nbformat": 4,
 "nbformat_minor": 4
}
