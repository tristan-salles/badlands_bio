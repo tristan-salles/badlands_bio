{
 "cells": [
  {
   "cell_type": "code",
   "execution_count": null,
   "metadata": {},
   "outputs": [],
   "source": [
    "import pandas as pd\n",
    "import numpy as np\n",
    "import matplotlib.mlab as ml\n",
    "import matplotlib.pyplot as plt\n",
    "from matplotlib import cm\n",
    "import matplotlib as mpl\n",
    "from mpl_toolkits.axes_grid1 import make_axes_locatable\n",
    "\n",
    "import pygmt as gmt\n",
    "import xarray as xr\n",
    "\n",
    "import rasterio\n",
    "from rasterio.plot import show\n",
    "from rasterio.plot import show_hist\n",
    "from rasterio.mask import mask\n",
    "from rasterio.warp import calculate_default_transform, reproject, Resampling\n",
    "\n",
    "from shapely.geometry import box\n",
    "import geopandas as gpd\n",
    "from fiona.crs import from_epsg\n",
    "import pycrs\n",
    "\n",
    "from scripts import morphoGrid as morph\n",
    "from scipy.spatial import cKDTree\n",
    "\n",
    "# display plots in SVG format\n",
    "%config InlineBackend.figure_format = 'svg'\n",
    "%matplotlib inline"
   ]
  },
  {
   "cell_type": "markdown",
   "metadata": {},
   "source": [
    "# Get exposed shelf percentage\n",
    "\n",
    "### Intermittent flooding\n",
    "\n",
    "+ -415 (584) -400 (600) -393 (607)\n",
    "+ -337 (663) -325 (675) -304 (696) \n",
    "+ -246 (754) -237 (763) -230 (770)\n",
    "+ -220 (780) -213 (787) -190 (810)\n",
    "+ -107 (893) -81 (919)  -70 (930)\n",
    "\n",
    "### Full flooding\n",
    "\n",
    "+ -132 (868) -124 (876) -112 (888)\n",
    "+ -16 (984) 0 (1000)"
   ]
  },
  {
   "cell_type": "markdown",
   "metadata": {},
   "source": [
    "# Read badlands output file"
   ]
  },
  {
   "cell_type": "code",
   "execution_count": null,
   "metadata": {},
   "outputs": [],
   "source": [
    "out_tif_utm2 = r'data/elevation/clip_utm1.tif'\n",
    "clipped = rasterio.open(out_tif_utm2)"
   ]
  },
  {
   "cell_type": "code",
   "execution_count": null,
   "metadata": {},
   "outputs": [],
   "source": [
    "step = 430\n",
    "dx = 5000.\n",
    "folder = 'lowsub/h5'\n",
    "\n",
    "badland_topo = morph.morphoGrid(folder=folder, bbox = None, dx=dx)\n",
    "badland_topo.loadHDF5(timestep=step)\n",
    "height = badland_topo.z.shape[0]\n",
    "width = badland_topo.z.shape[1]\n",
    "minx = badland_topo.x.min()\n",
    "maxy = badland_topo.y.max()\n",
    "sealevel = badland_topo.sl"
   ]
  },
  {
   "cell_type": "markdown",
   "metadata": {},
   "source": [
    "# Build output as geotiff"
   ]
  },
  {
   "cell_type": "code",
   "execution_count": null,
   "metadata": {},
   "outputs": [],
   "source": [
    "bad_z = r'elev'+str(step)+'.tif'\n",
    "bad_fa = r'fa'+str(step)+'.tif'\n",
    "bad_ed = r'ed'+str(step)+'.tif'\n",
    "\n",
    "bad_z_png = r'out_z'+str(step)+'.png'\n",
    "bad_ed_png = r'out_e'+str(step)+'.png'"
   ]
  },
  {
   "cell_type": "code",
   "execution_count": null,
   "metadata": {},
   "outputs": [],
   "source": [
    "profile = {\n",
    "        'driver': clipped.driver,\n",
    "        'dtype': rasterio.float32,\n",
    "        'nodata': None,\n",
    "        'width': width, \n",
    "        'height': height,\n",
    "        'count': 1,\n",
    "        'crs': clipped.crs,\n",
    "        'transform': rasterio.Affine(dx, 0.0, minx, 0.0, -dx, maxy),\n",
    "        'tiled': False, \n",
    "        'interleave': 'band'\n",
    "    }\n",
    "\n",
    "data = np.flipud(badland_topo.z-sealevel)\n",
    "band_number = 1\n",
    "\n",
    "profile.update(dtype=data.dtype)\n",
    "\n",
    "with rasterio.open(bad_z, 'w', **profile) as dst:\n",
    "    dst.write(data, band_number)"
   ]
  },
  {
   "cell_type": "code",
   "execution_count": null,
   "metadata": {},
   "outputs": [],
   "source": [
    "data2 = np.flipud(np.log10(badland_topo.discharge))\n",
    "band_number = 1\n",
    "\n",
    "profile.update(dtype=data2.dtype)\n",
    "\n",
    "with rasterio.open(bad_fa, 'w', **profile) as dst:\n",
    "    dst.write(data2, band_number)"
   ]
  },
  {
   "cell_type": "code",
   "execution_count": null,
   "metadata": {},
   "outputs": [],
   "source": [
    "data3 = np.flipud(badland_topo.cumchange)\n",
    "band_number = 1\n",
    "\n",
    "profile.update(dtype=data3.dtype)\n",
    "\n",
    "with rasterio.open(bad_ed, 'w', **profile) as dst:\n",
    "    dst.write(data3, band_number)"
   ]
  },
  {
   "cell_type": "markdown",
   "metadata": {},
   "source": [
    "# Plot badlands outputs"
   ]
  },
  {
   "cell_type": "code",
   "execution_count": null,
   "metadata": {},
   "outputs": [],
   "source": [
    "fig = gmt.Figure()\n",
    "\n",
    "fig.grdimage(\n",
    "    grid=bad_z,\n",
    "    projection=\"x1:60000000\",\n",
    "#     frame=\"f\",  # add minor tick labels only\n",
    "    cmap=\"geo\",\n",
    "    Q=True,\n",
    "    I=True,\n",
    "    n='b'\n",
    ")\n",
    "\n",
    "gmt.makecpt(cmap=\"devon\", \n",
    "            series=[7,9],\n",
    "            I=True,\n",
    "           )\n",
    "\n",
    "fig.grdimage(\n",
    "    grid=bad_fa,\n",
    "    projection=\"x1:60000000\",\n",
    "#     frame=\"f\",  # add minor tick labels only\n",
    "    Q=True,\n",
    "    C=True,\n",
    "    t=90,\n",
    "    n='b'   \n",
    ")\n",
    "\n",
    "fig.grdcontour(\n",
    "    grid=bad_z,\n",
    "    interval=10000.,\n",
    "    pen=\"0.25p\"\n",
    "    )\n",
    "\n",
    "# Create a colorbar designed for seismic tomography- roma\n",
    "# fig.colorbar(\n",
    "#     cmap=\"geo\",\n",
    "#     frame=[\"+Lelevation\", \"xaf\", \"y+lm\"],\n",
    "#     scale=1,\n",
    "# )\n",
    "fig.savefig(fname=bad_z_png,dpi=1000, crop=True)\n",
    "fig.show(dpi=1000, width=800)"
   ]
  },
  {
   "cell_type": "code",
   "execution_count": null,
   "metadata": {},
   "outputs": [],
   "source": [
    "fig = gmt.Figure()\n",
    "\n",
    "# fig.grdimage(\n",
    "#     grid=bad_z,\n",
    "#     projection=\"x1:60000000\",\n",
    "# #     frame=\"f\",  # add minor tick labels only\n",
    "#     cmap=\"geo\",\n",
    "#     Q=True,\n",
    "#     I=True,\n",
    "#     n='b'\n",
    "# )\n",
    "\n",
    "gmt.makecpt(cmap=\"polar\", \n",
    "            series=[-50,50],\n",
    "            I=False,\n",
    "           )\n",
    "\n",
    "fig.grdimage(\n",
    "    grid=bad_ed,\n",
    "    projection=\"x1:60000000\",\n",
    "#     frame=\"f\",  # add minor tick labels only\n",
    "    Q=True,\n",
    "    C=True,\n",
    "#     t=90,\n",
    "    n='b'   \n",
    ")\n",
    "\n",
    "gmt.makecpt(cmap=\"devon\", \n",
    "            series=[7,9],\n",
    "            I=True,\n",
    "           ) \n",
    "\n",
    "fig.grdimage(\n",
    "    grid=bad_fa,\n",
    "    projection=\"x1:60000000\",\n",
    "#     frame=\"f\",  # add minor tick labels only\n",
    "    Q=True,\n",
    "    C=True,\n",
    "    t=70,\n",
    "    n='b'   \n",
    ")\n",
    "\n",
    "\n",
    "fig.grdcontour(\n",
    "    grid=bad_z,\n",
    "    interval=10000.,\n",
    "    pen=\"0.25p\"\n",
    "    )\n",
    "\n",
    "# Create a colorbar designed for seismic tomography- roma\n",
    "# fig.colorbar(\n",
    "#     cmap=\"geo\",\n",
    "#     frame=[\"+Lelevation\", \"xaf\", \"y+lm\"],\n",
    "#     scale=1,\n",
    "# )\n",
    "fig.savefig(fname=bad_ed_png,dpi=1000, crop=True)\n",
    "fig.show(dpi=1000, width=800)"
   ]
  },
  {
   "cell_type": "code",
   "execution_count": null,
   "metadata": {},
   "outputs": [],
   "source": []
  },
  {
   "cell_type": "code",
   "execution_count": null,
   "metadata": {},
   "outputs": [],
   "source": []
  },
  {
   "cell_type": "markdown",
   "metadata": {},
   "source": [
    "STOP HERE"
   ]
  },
  {
   "cell_type": "code",
   "execution_count": null,
   "metadata": {},
   "outputs": [],
   "source": []
  },
  {
   "cell_type": "code",
   "execution_count": null,
   "metadata": {},
   "outputs": [],
   "source": []
  },
  {
   "cell_type": "code",
   "execution_count": null,
   "metadata": {},
   "outputs": [],
   "source": []
  },
  {
   "cell_type": "code",
   "execution_count": null,
   "metadata": {},
   "outputs": [],
   "source": []
  },
  {
   "cell_type": "code",
   "execution_count": null,
   "metadata": {},
   "outputs": [],
   "source": []
  },
  {
   "cell_type": "code",
   "execution_count": null,
   "metadata": {},
   "outputs": [],
   "source": []
  },
  {
   "cell_type": "code",
   "execution_count": null,
   "metadata": {},
   "outputs": [],
   "source": []
  },
  {
   "cell_type": "code",
   "execution_count": null,
   "metadata": {},
   "outputs": [],
   "source": []
  },
  {
   "cell_type": "code",
   "execution_count": null,
   "metadata": {},
   "outputs": [],
   "source": []
  },
  {
   "cell_type": "code",
   "execution_count": null,
   "metadata": {},
   "outputs": [],
   "source": []
  },
  {
   "cell_type": "code",
   "execution_count": null,
   "metadata": {},
   "outputs": [],
   "source": [
    "fig = gmt.Figure()\n",
    "\n",
    "#gmt.makecpt(cmap=\"oleron\", series=[-4500, 4500])\n",
    "\n",
    "fig.grdimage(\n",
    "    grid=bad_z,\n",
    "#     region=[-2700000, 2800000, -2200000, 2300000],\n",
    "    projection=\"x1:60000000\",\n",
    "#     frame=\"f\",  # add minor tick labels only\n",
    "    cmap=\"geo\",\n",
    "    Q=True,\n",
    "    I=True,\n",
    "    n='b'\n",
    ")\n",
    "fig.grdcontour(\n",
    "    grid=bad_z,\n",
    "    interval=10000.,\n",
    "    pen=\"0.25p\"\n",
    "#     annotation=\"1+f6p\",\n",
    "#     limit=\"-8000/0\",\n",
    "#     pen=\"a0.15p\"\n",
    "    )\n",
    "fig.show(dpi=720, width=800)"
   ]
  },
  {
   "cell_type": "code",
   "execution_count": null,
   "metadata": {},
   "outputs": [],
   "source": []
  },
  {
   "cell_type": "code",
   "execution_count": null,
   "metadata": {},
   "outputs": [],
   "source": []
  },
  {
   "cell_type": "code",
   "execution_count": null,
   "metadata": {},
   "outputs": [],
   "source": []
  },
  {
   "cell_type": "code",
   "execution_count": null,
   "metadata": {},
   "outputs": [],
   "source": []
  },
  {
   "cell_type": "code",
   "execution_count": null,
   "metadata": {},
   "outputs": [],
   "source": [
    "STOP"
   ]
  },
  {
   "cell_type": "code",
   "execution_count": null,
   "metadata": {},
   "outputs": [],
   "source": []
  },
  {
   "cell_type": "code",
   "execution_count": null,
   "metadata": {},
   "outputs": [],
   "source": []
  },
  {
   "cell_type": "code",
   "execution_count": null,
   "metadata": {},
   "outputs": [],
   "source": [
    "dst_crs = 'EPSG:4326'\n",
    "bad_lonlat = r'data/elevation/clip_utm1.tif'"
   ]
  },
  {
   "cell_type": "code",
   "execution_count": null,
   "metadata": {},
   "outputs": [],
   "source": [
    "transform"
   ]
  },
  {
   "cell_type": "code",
   "execution_count": null,
   "metadata": {},
   "outputs": [],
   "source": [
    "width,width0,height,height0"
   ]
  },
  {
   "cell_type": "code",
   "execution_count": null,
   "metadata": {},
   "outputs": [],
   "source": [
    "with rasterio.open(bad_tif) as src:\n",
    "    transform0, width0, height0 = calculate_default_transform(\n",
    "        src.crs, dst_crs, src.width, src.height, *src.bounds)\n",
    "    kwargs = src.meta.copy()\n",
    "    dll = transform[0]\n",
    "    transform1 = rasterio.Affine(transform0[0], 0.0, \n",
    "                                 -transform0[2]-100., \n",
    "                                 0.0, transform0[4], \n",
    "                                 transform0[5])\n",
    "    kwargs.update({\n",
    "        'crs': dst_crs,2\n",
    "        'transform': transform1,\n",
    "        'width': width0,\n",
    "        'height': height\n",
    "    })\n",
    "\n",
    "    with rasterio.open(bad_lonlat, 'w', **kwargs) as dst:\n",
    "        for i in range(1, src.count + 1):\n",
    "            reproject(\n",
    "                source=rasterio.band(src, i),\n",
    "                destination=rasterio.band(dst, i),\n",
    "                src_transform=src.transform,\n",
    "                src_crs=src.crs,\n",
    "                dst_transform=transform,\n",
    "                dst_crs=dst_crs,\n",
    "                resampling=Resampling.nearest)\n",
    "            \n",
    "clipped_utm = rasterio.open(bad_lonlat)\n",
    "fig, ax = plt.subplots(1,1, figsize=(12,7))\n",
    "show(clipped_utm, ax=ax, cmap='gist_earth', title='Elevation')\n",
    "plt.show()"
   ]
  },
  {
   "cell_type": "code",
   "execution_count": null,
   "metadata": {},
   "outputs": [],
   "source": [
    "minlx, minly = 160., -11.00\n",
    "maxlx, maxly = 200., 20."
   ]
  },
  {
   "cell_type": "code",
   "execution_count": null,
   "metadata": {},
   "outputs": [],
   "source": [
    "bbox2 = box(minlx, minly, maxlx, maxly)\n",
    "geo2 = gpd.GeoDataFrame({'geometry': bbox2}, index=[0], crs=from_epsg(4326))\n",
    "geo2 = geo2.to_crs(crs=clipped_utm.crs.data)\n",
    "\n",
    "coords2 = getFeatures(geo2)\n",
    "#print(coords2)\n",
    "\n",
    "out_utm2, out_transform2 = mask(clipped_utm, shapes=coords2, crop=True)\n",
    "out_meta2 = clipped_utm.meta.copy()\n",
    "epsg_code2 = int(clipped_utm.crs.data['init'][5:])\n",
    "# print(out_meta2)\n",
    "# print(epsg_code2)\n",
    "\n",
    "out_meta2.update({\"driver\": \"GTiff\",\n",
    "                \"height\": out_utm2.shape[1],          \n",
    "                 \"width\": out_utm2.shape[2],\n",
    "                 \"transform\": out_transform2,\n",
    "                 \"crs\": pycrs.parse.from_epsg_code(epsg_code2).to_proj4()}                 \n",
    "               )\n",
    "\n",
    "with rasterio.open(out_tif_utm2, \"w\", **out_meta2) as dest:\n",
    "    dest.write(out_utm2)\n",
    "    \n",
    "clipped = rasterio.open(out_tif_utm2)\n",
    "fig, ax = plt.subplots(1,1, figsize=(12,7))\n",
    "show(clipped, ax=ax, cmap='gist_earth', title='Elevation')\n",
    "plt.show()"
   ]
  },
  {
   "cell_type": "code",
   "execution_count": null,
   "metadata": {},
   "outputs": [],
   "source": []
  },
  {
   "cell_type": "code",
   "execution_count": null,
   "metadata": {},
   "outputs": [],
   "source": [
    "clipped_utm.profile"
   ]
  },
  {
   "cell_type": "code",
   "execution_count": null,
   "metadata": {},
   "outputs": [],
   "source": [
    "{'dtype': 'int16', 'tiled': False, 'count': 1, 'crs': CRS.from_epsg(4326), 'width': 3601, 'transform': Affine(0.016666666666666666, 0.0, 79.99166666666667,\n",
    "       0.0, -0.016666666666666663, 20.008333333333354), 'interleave': 'band', 'nodata': None, 'height': 2401, 'driver': 'GTiff'}\n"
   ]
  },
  {
   "cell_type": "code",
   "execution_count": null,
   "metadata": {},
   "outputs": [],
   "source": [
    "clipped_utm.profile"
   ]
  },
  {
   "cell_type": "code",
   "execution_count": null,
   "metadata": {},
   "outputs": [],
   "source": []
  },
  {
   "cell_type": "code",
   "execution_count": null,
   "metadata": {},
   "outputs": [],
   "source": []
  },
  {
   "cell_type": "code",
   "execution_count": null,
   "metadata": {},
   "outputs": [],
   "source": []
  },
  {
   "cell_type": "code",
   "execution_count": null,
   "metadata": {},
   "outputs": [],
   "source": []
  },
  {
   "cell_type": "code",
   "execution_count": null,
   "metadata": {},
   "outputs": [],
   "source": [
    "# Register GDAL format drivers and configuration options with a\n",
    "# context manager.\n",
    "with rasterio.Env():\n",
    "\n",
    "    # Write an array as a raster band to a new 8-bit file. For\n",
    "    # the new file's profile, we start with the profile of the source\n",
    "    profile = clipped.profile\n",
    "\n",
    "    # And then change the band count to 1, set the\n",
    "    # dtype to uint8, and specify LZW compression.\n",
    "    profile.update(\n",
    "        dtype=rasterio.uint8,\n",
    "        count=1,\n",
    "        compress='lzw')\n",
    "\n",
    "    with rasterio.open('example.tif', 'w', **profile) as dst:\n",
    "        dst.write(array.astype(rasterio.uint8), 1)\n",
    "\n",
    "# At the end of the ``with rasterio.Env()`` block, context\n",
    "# manager exits"
   ]
  },
  {
   "cell_type": "code",
   "execution_count": null,
   "metadata": {},
   "outputs": [],
   "source": [
    "minux, minuy = -1800000., -1400000.\n",
    "maxux, maxuy = 3000000., 2200000.\n",
    "\n",
    "bbox2 = box(minux, minuy, maxux, maxuy)\n",
    "geo2 = gpd.GeoDataFrame({'geometry': bbox2}, index=[0], crs=from_epsg(32649))\n",
    "geo2 = geo2.to_crs(crs=clipped_utm.crs.data)\n",
    "\n",
    "coords2 = getFeatures(geo2)\n",
    "print(coords2)\n",
    "\n",
    "out_utm2, out_transform2 = mask(clipped_utm, shapes=coords2, crop=True)\n",
    "out_meta2 = clipped_utm.meta.copy()\n",
    "epsg_code2 = int(clipped_utm.crs.data['init'][5:])\n",
    "print(out_meta2)\n",
    "print(epsg_code2)\n",
    "\n",
    "out_meta2.update({\"driver\": \"GTiff\",\n",
    "                \"height\": out_utm2.shape[1],          \n",
    "                 \"width\": out_utm2.shape[2],\n",
    "                 \"transform\": out_transform2,\n",
    "                 \"crs\": pycrs.parse.from_epsg_code(epsg_code2).to_proj4()}                 \n",
    "               )\n",
    "\n",
    "with rasterio.open(out_tif_utm2, \"w\", **out_meta2) as dest:\n",
    "    dest.write(out_utm2)\n",
    "    \n",
    "clipped = rasterio.open(out_tif_utm2)\n",
    "fig, ax = pyplot.subplots(1,1, figsize=(12,7))\n",
    "show(clipped, ax=ax, cmap='gist_earth', title='Elevation')\n",
    "pyplot.show()"
   ]
  },
  {
   "cell_type": "code",
   "execution_count": null,
   "metadata": {},
   "outputs": [],
   "source": [
    "badland_topo = morph.morphoGrid(folder='lowsub/h5', bbox = None, dx=5000)\n",
    "badland_topo.loadHDF5(timestep=1000)"
   ]
  },
  {
   "cell_type": "code",
   "execution_count": null,
   "metadata": {},
   "outputs": [],
   "source": [
    "regX = badland_topo.x.flatten()\n",
    "regY = badland_topo.y.flatten()\n",
    "regXY = np.vstack([regX, regY]).T"
   ]
  },
  {
   "cell_type": "code",
   "execution_count": null,
   "metadata": {},
   "outputs": [],
   "source": []
  },
  {
   "cell_type": "code",
   "execution_count": null,
   "metadata": {},
   "outputs": [],
   "source": [
    "plt.figure(figsize=(10, 8))\n",
    "ax = plt.gca()\n",
    "im = ax.imshow(badland_topo.z, cmap ='seismic', vmin = -1000, vmax = 1000, \n",
    "                    interpolation ='nearest', origin ='lower') \n",
    "divider = make_axes_locatable(ax)\n",
    "cax = divider.append_axes(\"right\", size=\"5%\", pad=0.05)\n",
    "\n",
    "plt.colorbar(im, cax=cax)\n",
    "plt.show()"
   ]
  },
  {
   "cell_type": "code",
   "execution_count": null,
   "metadata": {},
   "outputs": [],
   "source": []
  }
 ],
 "metadata": {
  "kernelspec": {
   "display_name": "Python 3",
   "language": "python",
   "name": "python3"
  },
  "language_info": {
   "codemirror_mode": {
    "name": "ipython",
    "version": 3
   },
   "file_extension": ".py",
   "mimetype": "text/x-python",
   "name": "python",
   "nbconvert_exporter": "python",
   "pygments_lexer": "ipython3",
   "version": "3.7.3"
  }
 },
 "nbformat": 4,
 "nbformat_minor": 4
}
