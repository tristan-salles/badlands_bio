{
 "cells": [
  {
   "cell_type": "code",
   "execution_count": null,
   "metadata": {},
   "outputs": [],
   "source": [
    "import pandas as pd\n",
    "import numpy as np\n",
    "import matplotlib.mlab as ml\n",
    "import matplotlib.pyplot as plt\n",
    "from matplotlib import cm\n",
    "from mpl_toolkits.axes_grid1 import make_axes_locatable\n",
    "\n",
    "from scripts import morphoGrid as morph\n",
    "from scipy.spatial import cKDTree\n",
    "\n",
    "# display plots in SVG format\n",
    "%config InlineBackend.figure_format = 'svg'\n",
    "%matplotlib inline"
   ]
  },
  {
   "cell_type": "markdown",
   "metadata": {},
   "source": [
    "# Get the sundaland shelf coordinates"
   ]
  },
  {
   "cell_type": "code",
   "execution_count": null,
   "metadata": {},
   "outputs": [],
   "source": [
    "shelfXYZ = \"./data/sundaland_shelf.csv\"\n",
    "pd_shelf = pd.read_csv(\n",
    "            shelfXYZ,\n",
    "            sep=r\"\t\",\n",
    "            engine=\"c\",\n",
    "            na_filter=False,\n",
    "            dtype=np.float,\n",
    "            low_memory=False,\n",
    "        )\n",
    "\n",
    "shelfXY = pd_shelf.values[:, 0:2]\n",
    "shelfZ = pd_shelf.values[:, 2]\n",
    "tree = cKDTree(shelfXY)"
   ]
  },
  {
   "cell_type": "markdown",
   "metadata": {},
   "source": [
    "# Read a given badlands time step"
   ]
  },
  {
   "cell_type": "code",
   "execution_count": null,
   "metadata": {},
   "outputs": [],
   "source": [
    "badland_topo = morph.morphoGrid(folder='lowsub/h5', bbox = None, dx=5000)\n",
    "badland_topo.loadHDF5(timestep=1000)"
   ]
  },
  {
   "cell_type": "code",
   "execution_count": null,
   "metadata": {},
   "outputs": [],
   "source": [
    "regX = badland_topo.x.flatten()\n",
    "regY = badland_topo.y.flatten()\n",
    "regXY = np.vstack([regX, regY]).T"
   ]
  },
  {
   "cell_type": "markdown",
   "metadata": {},
   "source": [
    "## Define sundaland shelf values"
   ]
  },
  {
   "cell_type": "code",
   "execution_count": null,
   "metadata": {},
   "outputs": [],
   "source": [
    "# This only needs to be done once!\n",
    "dists, inds = tree.query(regXY, k=1)\n",
    "shelfIDs = np.where(dists<=5500)[0]\n",
    "\n",
    "\n",
    "sundaIDs = np.zeros(len(regY))\n",
    "sundaIDs[shelfIDs] = 1\n",
    "viewIDs = sundaIDs.reshape(badland_topo.x.shape)\n",
    "\n",
    "shelfPtsNb = len(shelfIDs)"
   ]
  },
  {
   "cell_type": "code",
   "execution_count": null,
   "metadata": {},
   "outputs": [],
   "source": [
    "fig = plt.figure(figsize=(10, 8))\n",
    "ax = plt.gca()\n",
    "im = ax.imshow(viewIDs, cmap ='seismic', vmin = -1, vmax = 1, \n",
    "                    interpolation ='nearest', origin ='lower') \n",
    "divider = make_axes_locatable(ax)\n",
    "cax = divider.append_axes(\"right\", size=\"5%\", pad=0.05)\n",
    "\n",
    "plt.colorbar(im, cax=cax)\n",
    "plt.show()\n",
    "\n",
    "# fig.savefig('shelfvals.pdf')"
   ]
  },
  {
   "cell_type": "markdown",
   "metadata": {},
   "source": [
    "Get number of points on the shelf above sea level"
   ]
  },
  {
   "cell_type": "code",
   "execution_count": null,
   "metadata": {},
   "outputs": [],
   "source": [
    "aboveIDs = np.where(badland_topo.z.flatten()[shelfIDs]>badland_topo.sl)[0]"
   ]
  },
  {
   "cell_type": "code",
   "execution_count": null,
   "metadata": {},
   "outputs": [],
   "source": [
    "percAerial = len(aboveIDs)/shelfPtsNb"
   ]
  },
  {
   "cell_type": "code",
   "execution_count": null,
   "metadata": {},
   "outputs": [],
   "source": [
    "percAerial"
   ]
  },
  {
   "cell_type": "markdown",
   "metadata": {},
   "source": [
    "# Looping over timesteps"
   ]
  },
  {
   "cell_type": "code",
   "execution_count": null,
   "metadata": {},
   "outputs": [],
   "source": [
    "low_percent = []\n",
    "for step in range(1001):\n",
    "    \n",
    "    if step % 100 == 0:\n",
    "        print('Processing step:',step)\n",
    "        \n",
    "    badland_topo = morph.morphoGrid(folder='lowsub/h5', bbox = None, dx=5000)\n",
    "    badland_topo.loadHDF5(timestep=step)\n",
    "    aboveIDs = np.where(badland_topo.z.flatten()[shelfIDs]>badland_topo.sl)[0]\n",
    "    percAerial = len(aboveIDs)/shelfPtsNb\n",
    "    low_percent.append(percAerial)"
   ]
  },
  {
   "cell_type": "code",
   "execution_count": null,
   "metadata": {},
   "outputs": [],
   "source": [
    "mid_percent = []\n",
    "for step in range(1001):\n",
    "    \n",
    "    if step % 100 == 0:\n",
    "        print('Processing step:',step)\n",
    "        \n",
    "    badland_topo = morph.morphoGrid(folder='midsub/h5', bbox = None, dx=5000)\n",
    "    badland_topo.loadHDF5(timestep=step)\n",
    "    aboveIDs = np.where(badland_topo.z.flatten()[shelfIDs]>badland_topo.sl)[0]\n",
    "    percAerial = len(aboveIDs)/shelfPtsNb\n",
    "    mid_percent.append(percAerial)"
   ]
  },
  {
   "cell_type": "code",
   "execution_count": null,
   "metadata": {},
   "outputs": [],
   "source": [
    "high_percent = []\n",
    "for step in range(1001):\n",
    "    \n",
    "    if step % 100 == 0:\n",
    "        print('Processing step:',step)\n",
    "        \n",
    "    badland_topo = morph.morphoGrid(folder='highsub/h5', bbox = None, dx=5000)\n",
    "    badland_topo.loadHDF5(timestep=step)\n",
    "    aboveIDs = np.where(badland_topo.z.flatten()[shelfIDs]>badland_topo.sl)[0]\n",
    "    percAerial = len(aboveIDs)/shelfPtsNb\n",
    "    high_percent.append(percAerial)"
   ]
  },
  {
   "cell_type": "markdown",
   "metadata": {},
   "source": [
    "### Save in file"
   ]
  },
  {
   "cell_type": "code",
   "execution_count": null,
   "metadata": {},
   "outputs": [],
   "source": [
    "time = np.arange(len(percent))\n",
    "\n",
    "df = pd.DataFrame(\n",
    "    {\n",
    "        \"time\": time-1000.,\n",
    "        \"low\": low_percent,\n",
    "        \"mid\": mid_percent,\n",
    "        \"high\": high_percent,\n",
    "    }\n",
    ")\n",
    "\n",
    "df.to_csv(\n",
    "    \"shelfExpose.csv\",\n",
    "    columns=[\"time\", \"low\", \"mid\", \"high\"],\n",
    "    sep=\",\",\n",
    "    index=False,\n",
    ")"
   ]
  },
  {
   "cell_type": "markdown",
   "metadata": {},
   "source": [
    "# Plot results\n",
    "\n",
    "The plot is done in notebook 6\n",
    "\n",
    "\n",
    "Read file"
   ]
  },
  {
   "cell_type": "code",
   "execution_count": null,
   "metadata": {},
   "outputs": [],
   "source": [
    "file = \"shelfExpose.csv\"\n",
    "data = pd.read_csv(\n",
    "            file,\n",
    "            sep=r\",\",\n",
    "            engine=\"c\",\n",
    "            na_filter=False,\n",
    "            dtype=np.float,\n",
    "            low_memory=False,\n",
    "        )\n",
    "\n",
    "time = data.values[:, 0]\n",
    "low = data.values[:, 1]*100.\n",
    "mid = data.values[:, 2]*100.\n",
    "high = data.values[:, 3]*100."
   ]
  },
  {
   "cell_type": "markdown",
   "metadata": {},
   "source": [
    "View data"
   ]
  },
  {
   "cell_type": "code",
   "execution_count": null,
   "metadata": {},
   "outputs": [],
   "source": [
    "fig,ax = plt.subplots(1, 1, figsize=(10,5))\n",
    "\n",
    "plt.plot(time,low,color='k', ls='-', lw=1.5)\n",
    "plt.plot(time,mid,color='b', ls='-', lw=1.5)\n",
    "plt.plot(time,high,color='r', ls='-', lw=1.5)\n",
    "\n",
    "# # plt.grid()\n",
    "plt.xlim(-1000,0)\n",
    "plt.ylim(0,110)\n",
    "plt.xlabel('Time (kyr BP)')\n",
    "plt.ylabel('Percentage of exposed sundaland shelf')\n",
    "fig.tight_layout()"
   ]
  },
  {
   "cell_type": "code",
   "execution_count": null,
   "metadata": {},
   "outputs": [],
   "source": [
    "fig,ax = plt.subplots(1, 1, figsize=(10,5))\n",
    "\n",
    "plt.plot(time,low,color='k', ls='-', lw=1.5)\n",
    "plt.plot(time,mid,color='b', ls='-', lw=1.5)\n",
    "plt.plot(time,high,color='r', ls='-', lw=1.5)\n",
    "\n",
    "# # plt.grid()\n",
    "plt.xlim(-450,0)\n",
    "plt.ylim(0,110)\n",
    "plt.xlabel('Time (kyr BP)')\n",
    "plt.ylabel('Percentage of exposed sundaland shelf')\n",
    "fig.tight_layout()"
   ]
  },
  {
   "cell_type": "code",
   "execution_count": null,
   "metadata": {},
   "outputs": [],
   "source": [
    "# plt.figure(figsize=(10, 8))\n",
    "# ax = plt.gca()\n",
    "# im = ax.imshow(badland_topo.z, cmap ='seismic', vmin = -1000, vmax = 1000, \n",
    "#                     interpolation ='nearest', origin ='lower') \n",
    "# divider = make_axes_locatable(ax)\n",
    "# cax = divider.append_axes(\"right\", size=\"5%\", pad=0.05)\n",
    "\n",
    "# plt.colorbar(im, cax=cax)\n",
    "# plt.show()"
   ]
  },
  {
   "cell_type": "code",
   "execution_count": null,
   "metadata": {},
   "outputs": [],
   "source": []
  }
 ],
 "metadata": {
  "kernelspec": {
   "display_name": "Python 3",
   "language": "python",
   "name": "python3"
  },
  "language_info": {
   "codemirror_mode": {
    "name": "ipython",
    "version": 3
   },
   "file_extension": ".py",
   "mimetype": "text/x-python",
   "name": "python",
   "nbconvert_exporter": "python",
   "pygments_lexer": "ipython3",
   "version": "3.7.3"
  }
 },
 "nbformat": 4,
 "nbformat_minor": 2
}
